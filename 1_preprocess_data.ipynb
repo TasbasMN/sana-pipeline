{
 "cells": [
  {
   "cell_type": "code",
   "execution_count": null,
   "metadata": {},
   "outputs": [],
   "source": [
    "import pandas as pd\n",
    "from scripts.utils import *\n",
    "import concurrent.futures"
   ]
  },
  {
   "cell_type": "code",
   "execution_count": null,
   "metadata": {},
   "outputs": [],
   "source": [
    "df = pd.read_csv(\"data/raw_data_from_sana.csv\")\n",
    "df.head()"
   ]
  },
  {
   "cell_type": "markdown",
   "metadata": {},
   "source": [
    "https://www.ncbi.nlm.nih.gov/clinvar/RCV000140032/ this page shows that this variant chromosome \"Un_KI270742v1\" is at Chr1: 142728921 - 142907112 (on Assembly GRCh37)\n",
    "\n",
    "so I added the line \n",
    "\n",
    "```df.loc[df['chr'] == 'Un_KI270742v1', 'chr'] = '1'```"
   ]
  },
  {
   "cell_type": "markdown",
   "metadata": {},
   "source": [
    "# processing df"
   ]
  },
  {
   "cell_type": "code",
   "execution_count": null,
   "metadata": {},
   "outputs": [],
   "source": [
    "df.loc[df['chr'] == 'Un_KI270742v1', 'chr'] = '1'"
   ]
  },
  {
   "cell_type": "code",
   "execution_count": null,
   "metadata": {},
   "outputs": [],
   "source": [
    "# renaming cols\n",
    "df.rename(columns={\"start\": \"pos\"}, inplace=True)"
   ]
  },
  {
   "cell_type": "code",
   "execution_count": null,
   "metadata": {},
   "outputs": [],
   "source": [
    "# handle minus signs\n",
    "df[\"ref\"] = df[\"ref\"].replace(\"-\", \"\")\n",
    "df[\"alt\"] = df[\"alt\"].replace(\"-\", \"\")"
   ]
  },
  {
   "cell_type": "code",
   "execution_count": null,
   "metadata": {},
   "outputs": [],
   "source": [
    "# Add an 'id' column by combining 'chr', 'pos', 'ref', and 'alt' columns\n",
    "df['id'] = df['chr'] + '_' + df['pos'].astype(str) + '_' + df['ref'] + '_' + df['alt']"
   ]
  },
  {
   "cell_type": "code",
   "execution_count": null,
   "metadata": {},
   "outputs": [],
   "source": [
    "# preparing mutation len values\n",
    "df.loc[:, \"ref_len\"] = df[\"ref\"].str.len()\n",
    "df.loc[:, \"alt_len\"] = df[\"alt\"].str.len()"
   ]
  },
  {
   "cell_type": "code",
   "execution_count": null,
   "metadata": {},
   "outputs": [],
   "source": [
    "# if affected sequences are longer than 1, fetch nucleotides at the specified interval\n",
    "df.loc[df['ref_len'] > 1, 'fetched_nucleotides'] = df.apply(lambda x: get_nucleotides_in_interval(x['chr'], x['pos'], x[\"pos\"]+x[\"ref_len\"]-1), axis=1)\n",
    "# if affected sequences are equal to 1, fetch nucleotides at the specified pos\n",
    "df.loc[df['ref_len'] == 1, 'fetched_nucleotides'] = df.apply(lambda x: get_nucleotide_at_position(x['chr'], x['pos']), axis=1)\n",
    "# same but for 0 length\n",
    "df.loc[df['ref_len'] == 0, 'fetched_nucleotides'] = \"\""
   ]
  },
  {
   "cell_type": "code",
   "execution_count": null,
   "metadata": {},
   "outputs": [],
   "source": [
    "# Add an 'is_nucleotides_same' column to check if fetched nucleotides are the same as 'ref'\n",
    "df.loc[:, 'is_nucleotides_same'] = df[\"fetched_nucleotides\"] == df[\"ref\"]\n",
    "df.is_nucleotides_same.value_counts()\n"
   ]
  },
  {
   "cell_type": "code",
   "execution_count": null,
   "metadata": {},
   "outputs": [],
   "source": [
    "# preparing reference indices\n",
    "df.loc[:, \"ref_start\"] = df[\"pos\"]\n",
    "df.loc[:, \"ref_end\"] = df[\"pos\"] + df[\"ref_len\"]\n"
   ]
  },
  {
   "cell_type": "code",
   "execution_count": null,
   "metadata": {},
   "outputs": [],
   "source": [
    "# preparing extended sequences\n",
    "df.loc[:, 'upstream_sequence'] = df.apply(lambda x: get_nucleotides_in_interval(x['chr'], x['ref_start']-30, x[\"ref_start\"]-1), axis=1)\n",
    "df.loc[:, 'downstream_sequence'] = df.apply(lambda x: get_nucleotides_in_interval(x['chr'], x['ref_end'], x[\"ref_end\"]+29), axis=1)"
   ]
  },
  {
   "cell_type": "code",
   "execution_count": null,
   "metadata": {},
   "outputs": [],
   "source": [
    "# preparing wt sequence\n",
    "df.loc[:,'sequence'] = df[\"upstream_sequence\"] + df[\"ref\"] + df[\"downstream_sequence\"]\n",
    "\n",
    "# preparing mutated sequence\n",
    "df.loc[:,'mutated_sequence'] = df[\"upstream_sequence\"] + df[\"alt\"] + df[\"downstream_sequence\"]"
   ]
  },
  {
   "cell_type": "code",
   "execution_count": null,
   "metadata": {},
   "outputs": [],
   "source": [
    "df = generate_is_mirna_column(df, grch=37)\n",
    "df = generate_transcript_id_and_gene_name_columns(df, grch=37)\n"
   ]
  },
  {
   "cell_type": "code",
   "execution_count": null,
   "metadata": {},
   "outputs": [],
   "source": [
    "df.head()"
   ]
  },
  {
   "cell_type": "code",
   "execution_count": null,
   "metadata": {},
   "outputs": [],
   "source": [
    "df[df.is_mirna == 1].head()"
   ]
  },
  {
   "cell_type": "code",
   "execution_count": null,
   "metadata": {},
   "outputs": [],
   "source": [
    "def get_biotype(coord):\n",
    "    if transcripts := grch37.transcripts_at_locus(*coord):\n",
    "        return tuple(coord), transcripts[0].biotype\n",
    "    else:\n",
    "        return tuple(coord), \"not_found\"\n",
    "    \n",
    "grch37 = import_pyensembl(grch=37)\n",
    "coords = df[['chr', 'pos']].values.tolist()\n",
    "\n",
    "with concurrent.futures.ProcessPoolExecutor() as executor:\n",
    "    results = executor.map(get_biotype, coords)\n",
    "\n",
    "biotypes = dict(results)\n",
    "df[\"biotype\"] = [biotypes.get((row[\"chr\"], row[\"pos\"]), \"\") for _, row in df.iterrows()]\n"
   ]
  },
  {
   "cell_type": "code",
   "execution_count": null,
   "metadata": {},
   "outputs": [],
   "source": [
    "df.biotype.value_counts()"
   ]
  },
  {
   "cell_type": "code",
   "execution_count": null,
   "metadata": {},
   "outputs": [],
   "source": [
    "df[df.biotype == \"miRNA\"].is_mirna.value_counts()"
   ]
  },
  {
   "cell_type": "code",
   "execution_count": null,
   "metadata": {},
   "outputs": [],
   "source": [
    "df.head()"
   ]
  },
  {
   "cell_type": "code",
   "execution_count": null,
   "metadata": {},
   "outputs": [],
   "source": [
    "df[(df.biotype == \"miRNA\") & (df.is_mirna == 0)].transcript_id.values"
   ]
  },
  {
   "cell_type": "code",
   "execution_count": null,
   "metadata": {},
   "outputs": [],
   "source": [
    "case_1 = df[df.is_mirna == 0]\n",
    "case_2 = df[df.is_mirna == 1]\n",
    "\n",
    "case_1.to_csv(\"data/case_1_processed.csv\", index=False)\n",
    "case_2.to_csv(\"data/case_2_processed.csv\", index=False)"
   ]
  }
 ],
 "metadata": {
  "kernelspec": {
   "display_name": "sana-3MV7DID1-py3.11",
   "language": "python",
   "name": "python3"
  },
  "language_info": {
   "codemirror_mode": {
    "name": "ipython",
    "version": 3
   },
   "file_extension": ".py",
   "mimetype": "text/x-python",
   "name": "python",
   "nbconvert_exporter": "python",
   "pygments_lexer": "ipython3",
   "version": "3.11.5"
  },
  "orig_nbformat": 4
 },
 "nbformat": 4,
 "nbformat_minor": 2
}
