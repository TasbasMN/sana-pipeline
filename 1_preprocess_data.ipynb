{
 "cells": [
  {
   "cell_type": "code",
   "execution_count": 1,
   "metadata": {},
   "outputs": [],
   "source": [
    "import pandas as pd\n",
    "from scripts.utils import *\n",
    "import concurrent.futures"
   ]
  },
  {
   "cell_type": "code",
   "execution_count": 2,
   "metadata": {},
   "outputs": [
    {
     "data": {
      "text/html": [
       "<div>\n",
       "<style scoped>\n",
       "    .dataframe tbody tr th:only-of-type {\n",
       "        vertical-align: middle;\n",
       "    }\n",
       "\n",
       "    .dataframe tbody tr th {\n",
       "        vertical-align: top;\n",
       "    }\n",
       "\n",
       "    .dataframe thead th {\n",
       "        text-align: right;\n",
       "    }\n",
       "</style>\n",
       "<table border=\"1\" class=\"dataframe\">\n",
       "  <thead>\n",
       "    <tr style=\"text-align: right;\">\n",
       "      <th></th>\n",
       "      <th>chr</th>\n",
       "      <th>start</th>\n",
       "      <th>ref</th>\n",
       "      <th>alt</th>\n",
       "      <th>driver</th>\n",
       "    </tr>\n",
       "  </thead>\n",
       "  <tbody>\n",
       "    <tr>\n",
       "      <th>0</th>\n",
       "      <td>16</td>\n",
       "      <td>339439</td>\n",
       "      <td>C</td>\n",
       "      <td>T</td>\n",
       "      <td>1</td>\n",
       "    </tr>\n",
       "    <tr>\n",
       "      <th>1</th>\n",
       "      <td>16</td>\n",
       "      <td>339608</td>\n",
       "      <td>C</td>\n",
       "      <td>T</td>\n",
       "      <td>1</td>\n",
       "    </tr>\n",
       "    <tr>\n",
       "      <th>2</th>\n",
       "      <td>16</td>\n",
       "      <td>347721</td>\n",
       "      <td>C</td>\n",
       "      <td>T</td>\n",
       "      <td>1</td>\n",
       "    </tr>\n",
       "    <tr>\n",
       "      <th>3</th>\n",
       "      <td>16</td>\n",
       "      <td>360070</td>\n",
       "      <td>C</td>\n",
       "      <td>A</td>\n",
       "      <td>1</td>\n",
       "    </tr>\n",
       "    <tr>\n",
       "      <th>4</th>\n",
       "      <td>16</td>\n",
       "      <td>396146</td>\n",
       "      <td>A</td>\n",
       "      <td>T</td>\n",
       "      <td>1</td>\n",
       "    </tr>\n",
       "  </tbody>\n",
       "</table>\n",
       "</div>"
      ],
      "text/plain": [
       "  chr   start ref alt  driver\n",
       "0  16  339439   C   T       1\n",
       "1  16  339608   C   T       1\n",
       "2  16  347721   C   T       1\n",
       "3  16  360070   C   A       1\n",
       "4  16  396146   A   T       1"
      ]
     },
     "execution_count": 2,
     "metadata": {},
     "output_type": "execute_result"
    }
   ],
   "source": [
    "df = pd.read_csv(\"data/raw_data_from_sana.csv\")\n",
    "df.head()"
   ]
  },
  {
   "cell_type": "markdown",
   "metadata": {},
   "source": [
    "https://www.ncbi.nlm.nih.gov/clinvar/RCV000140032/ this page shows that this variant chromosome \"Un_KI270742v1\" is at Chr1: 142728921 - 142907112 (on Assembly GRCh37)\n",
    "\n",
    "so I added the line \n",
    "\n",
    "```df.loc[df['chr'] == 'Un_KI270742v1', 'chr'] = '1'```"
   ]
  },
  {
   "cell_type": "markdown",
   "metadata": {},
   "source": [
    "# processing df"
   ]
  },
  {
   "cell_type": "code",
   "execution_count": 3,
   "metadata": {},
   "outputs": [],
   "source": [
    "df.loc[df['chr'] == 'Un_KI270742v1', 'chr'] = '1'"
   ]
  },
  {
   "cell_type": "code",
   "execution_count": 4,
   "metadata": {},
   "outputs": [],
   "source": [
    "# renaming cols\n",
    "df.rename(columns={\"start\": \"pos\"}, inplace=True)"
   ]
  },
  {
   "cell_type": "code",
   "execution_count": 5,
   "metadata": {},
   "outputs": [],
   "source": [
    "# handle minus signs\n",
    "df[\"ref\"] = df[\"ref\"].replace(\"-\", \"\")\n",
    "df[\"alt\"] = df[\"alt\"].replace(\"-\", \"\")"
   ]
  },
  {
   "cell_type": "code",
   "execution_count": 6,
   "metadata": {},
   "outputs": [],
   "source": [
    "# Add an 'id' column by combining 'chr', 'pos', 'ref', and 'alt' columns\n",
    "df['id'] = df['chr'] + '_' + df['pos'].astype(str) + '_' + df['ref'] + '_' + df['alt']"
   ]
  },
  {
   "cell_type": "code",
   "execution_count": 7,
   "metadata": {},
   "outputs": [],
   "source": [
    "# preparing mutation len values\n",
    "df.loc[:, \"ref_len\"] = df[\"ref\"].str.len()\n",
    "df.loc[:, \"alt_len\"] = df[\"alt\"].str.len()"
   ]
  },
  {
   "cell_type": "code",
   "execution_count": 8,
   "metadata": {},
   "outputs": [],
   "source": [
    "# if affected sequences are longer than 1, fetch nucleotides at the specified interval\n",
    "df.loc[df['ref_len'] > 1, 'fetched_nucleotides'] = df.apply(lambda x: get_nucleotides_in_interval(x['chr'], x['pos'], x[\"pos\"]+x[\"ref_len\"]-1), axis=1)\n",
    "# if affected sequences are equal to 1, fetch nucleotides at the specified pos\n",
    "df.loc[df['ref_len'] == 1, 'fetched_nucleotides'] = df.apply(lambda x: get_nucleotide_at_position(x['chr'], x['pos']), axis=1)\n",
    "# same but for 0 length\n",
    "df.loc[df['ref_len'] == 0, 'fetched_nucleotides'] = \"\""
   ]
  },
  {
   "cell_type": "code",
   "execution_count": 9,
   "metadata": {},
   "outputs": [
    {
     "data": {
      "text/plain": [
       "is_nucleotides_same\n",
       "True    1154\n",
       "Name: count, dtype: int64"
      ]
     },
     "execution_count": 9,
     "metadata": {},
     "output_type": "execute_result"
    }
   ],
   "source": [
    "# Add an 'is_nucleotides_same' column to check if fetched nucleotides are the same as 'ref'\n",
    "df.loc[:, 'is_nucleotides_same'] = df[\"fetched_nucleotides\"] == df[\"ref\"]\n",
    "df.is_nucleotides_same.value_counts()\n"
   ]
  },
  {
   "cell_type": "code",
   "execution_count": 10,
   "metadata": {},
   "outputs": [],
   "source": [
    "# preparing reference indices\n",
    "df.loc[:, \"ref_start\"] = df[\"pos\"]\n",
    "df.loc[:, \"ref_end\"] = df[\"pos\"] + df[\"ref_len\"]\n"
   ]
  },
  {
   "cell_type": "code",
   "execution_count": 11,
   "metadata": {},
   "outputs": [],
   "source": [
    "# preparing extended sequences\n",
    "df.loc[:, 'upstream_sequence'] = df.apply(lambda x: get_nucleotides_in_interval(x['chr'], x['ref_start']-30, x[\"ref_start\"]-1), axis=1)\n",
    "df.loc[:, 'downstream_sequence'] = df.apply(lambda x: get_nucleotides_in_interval(x['chr'], x['ref_end'], x[\"ref_end\"]+29), axis=1)"
   ]
  },
  {
   "cell_type": "code",
   "execution_count": 12,
   "metadata": {},
   "outputs": [],
   "source": [
    "# preparing wt sequence\n",
    "df.loc[:,'sequence'] = df[\"upstream_sequence\"] + df[\"ref\"] + df[\"downstream_sequence\"]\n",
    "\n",
    "# preparing mutated sequence\n",
    "df.loc[:,'mutated_sequence'] = df[\"upstream_sequence\"] + df[\"alt\"] + df[\"downstream_sequence\"]"
   ]
  },
  {
   "cell_type": "code",
   "execution_count": 13,
   "metadata": {},
   "outputs": [
    {
     "name": "stderr",
     "output_type": "stream",
     "text": [
      "INFO:pyensembl.sequence_data:Loaded sequence dictionary from /run/media/nazif/2F946E411BA61D49/data/pyensembl/GRCh37/ensembl75/Homo_sapiens.GRCh37.75.cdna.all.fa.gz.pickle\n",
      "INFO:pyensembl.sequence_data:Loaded sequence dictionary from /run/media/nazif/2F946E411BA61D49/data/pyensembl/GRCh37/ensembl75/Homo_sapiens.GRCh37.75.ncrna.fa.gz.pickle\n",
      "INFO:pyensembl.sequence_data:Loaded sequence dictionary from /run/media/nazif/2F946E411BA61D49/data/pyensembl/GRCh37/ensembl75/Homo_sapiens.GRCh37.75.pep.all.fa.gz.pickle\n"
     ]
    }
   ],
   "source": [
    "df = generate_is_mirna_column(df, grch=37)\n",
    "df = generate_transcript_id_and_gene_name_columns(df, grch=37)\n"
   ]
  },
  {
   "cell_type": "code",
   "execution_count": 14,
   "metadata": {},
   "outputs": [
    {
     "data": {
      "text/html": [
       "<div>\n",
       "<style scoped>\n",
       "    .dataframe tbody tr th:only-of-type {\n",
       "        vertical-align: middle;\n",
       "    }\n",
       "\n",
       "    .dataframe tbody tr th {\n",
       "        vertical-align: top;\n",
       "    }\n",
       "\n",
       "    .dataframe thead th {\n",
       "        text-align: right;\n",
       "    }\n",
       "</style>\n",
       "<table border=\"1\" class=\"dataframe\">\n",
       "  <thead>\n",
       "    <tr style=\"text-align: right;\">\n",
       "      <th></th>\n",
       "      <th>chr</th>\n",
       "      <th>pos</th>\n",
       "      <th>ref</th>\n",
       "      <th>alt</th>\n",
       "      <th>driver</th>\n",
       "      <th>id</th>\n",
       "      <th>ref_len</th>\n",
       "      <th>alt_len</th>\n",
       "      <th>fetched_nucleotides</th>\n",
       "      <th>is_nucleotides_same</th>\n",
       "      <th>ref_start</th>\n",
       "      <th>ref_end</th>\n",
       "      <th>upstream_sequence</th>\n",
       "      <th>downstream_sequence</th>\n",
       "      <th>sequence</th>\n",
       "      <th>mutated_sequence</th>\n",
       "      <th>is_mirna</th>\n",
       "      <th>transcript_id</th>\n",
       "      <th>gene_name</th>\n",
       "    </tr>\n",
       "  </thead>\n",
       "  <tbody>\n",
       "    <tr>\n",
       "      <th>382</th>\n",
       "      <td>17</td>\n",
       "      <td>56408612</td>\n",
       "      <td>A</td>\n",
       "      <td>T</td>\n",
       "      <td>1</td>\n",
       "      <td>17_56408612_A_T</td>\n",
       "      <td>1</td>\n",
       "      <td>1</td>\n",
       "      <td>A</td>\n",
       "      <td>True</td>\n",
       "      <td>56408612</td>\n",
       "      <td>56408613</td>\n",
       "      <td>TCTCCGAAGCCCACAGTACACTCATCCATA</td>\n",
       "      <td>AGTAGGAAACACTACACCCTCCAGTGCTGT</td>\n",
       "      <td>TCTCCGAAGCCCACAGTACACTCATCCATAAAGTAGGAAACACTAC...</td>\n",
       "      <td>TCTCCGAAGCCCACAGTACACTCATCCATATAGTAGGAAACACTAC...</td>\n",
       "      <td>1</td>\n",
       "      <td>[ENST00000384835, ENST00000578334, ENST0000057...</td>\n",
       "      <td>[BZRAP1-AS1, MIR142]</td>\n",
       "    </tr>\n",
       "    <tr>\n",
       "      <th>383</th>\n",
       "      <td>17</td>\n",
       "      <td>56408616</td>\n",
       "      <td>A</td>\n",
       "      <td>C</td>\n",
       "      <td>1</td>\n",
       "      <td>17_56408616_A_C</td>\n",
       "      <td>1</td>\n",
       "      <td>1</td>\n",
       "      <td>A</td>\n",
       "      <td>True</td>\n",
       "      <td>56408616</td>\n",
       "      <td>56408617</td>\n",
       "      <td>CGAAGCCCACAGTACACTCATCCATAAAGT</td>\n",
       "      <td>GGAAACACTACACCCTCCAGTGCTGTTAGT</td>\n",
       "      <td>CGAAGCCCACAGTACACTCATCCATAAAGTAGGAAACACTACACCC...</td>\n",
       "      <td>CGAAGCCCACAGTACACTCATCCATAAAGTCGGAAACACTACACCC...</td>\n",
       "      <td>1</td>\n",
       "      <td>[ENST00000384835, ENST00000578334, ENST0000057...</td>\n",
       "      <td>[BZRAP1-AS1, MIR142]</td>\n",
       "    </tr>\n",
       "    <tr>\n",
       "      <th>384</th>\n",
       "      <td>17</td>\n",
       "      <td>56408620</td>\n",
       "      <td>A</td>\n",
       "      <td>G</td>\n",
       "      <td>1</td>\n",
       "      <td>17_56408620_A_G</td>\n",
       "      <td>1</td>\n",
       "      <td>1</td>\n",
       "      <td>A</td>\n",
       "      <td>True</td>\n",
       "      <td>56408620</td>\n",
       "      <td>56408621</td>\n",
       "      <td>GCCCACAGTACACTCATCCATAAAGTAGGA</td>\n",
       "      <td>ACACTACACCCTCCAGTGCTGTTAGTAGTG</td>\n",
       "      <td>GCCCACAGTACACTCATCCATAAAGTAGGAAACACTACACCCTCCA...</td>\n",
       "      <td>GCCCACAGTACACTCATCCATAAAGTAGGAGACACTACACCCTCCA...</td>\n",
       "      <td>1</td>\n",
       "      <td>[ENST00000384835, ENST00000578334, ENST0000057...</td>\n",
       "      <td>[BZRAP1-AS1, MIR142]</td>\n",
       "    </tr>\n",
       "    <tr>\n",
       "      <th>385</th>\n",
       "      <td>17</td>\n",
       "      <td>56408620</td>\n",
       "      <td>AA</td>\n",
       "      <td>TG</td>\n",
       "      <td>1</td>\n",
       "      <td>17_56408620_AA_TG</td>\n",
       "      <td>2</td>\n",
       "      <td>2</td>\n",
       "      <td>AA</td>\n",
       "      <td>True</td>\n",
       "      <td>56408620</td>\n",
       "      <td>56408622</td>\n",
       "      <td>GCCCACAGTACACTCATCCATAAAGTAGGA</td>\n",
       "      <td>CACTACACCCTCCAGTGCTGTTAGTAGTGC</td>\n",
       "      <td>GCCCACAGTACACTCATCCATAAAGTAGGAAACACTACACCCTCCA...</td>\n",
       "      <td>GCCCACAGTACACTCATCCATAAAGTAGGATGCACTACACCCTCCA...</td>\n",
       "      <td>1</td>\n",
       "      <td>[ENST00000384835, ENST00000578334, ENST0000057...</td>\n",
       "      <td>[BZRAP1-AS1, MIR142]</td>\n",
       "    </tr>\n",
       "    <tr>\n",
       "      <th>386</th>\n",
       "      <td>17</td>\n",
       "      <td>56408621</td>\n",
       "      <td>A</td>\n",
       "      <td>G</td>\n",
       "      <td>1</td>\n",
       "      <td>17_56408621_A_G</td>\n",
       "      <td>1</td>\n",
       "      <td>1</td>\n",
       "      <td>A</td>\n",
       "      <td>True</td>\n",
       "      <td>56408621</td>\n",
       "      <td>56408622</td>\n",
       "      <td>CCCACAGTACACTCATCCATAAAGTAGGAA</td>\n",
       "      <td>CACTACACCCTCCAGTGCTGTTAGTAGTGC</td>\n",
       "      <td>CCCACAGTACACTCATCCATAAAGTAGGAAACACTACACCCTCCAG...</td>\n",
       "      <td>CCCACAGTACACTCATCCATAAAGTAGGAAGCACTACACCCTCCAG...</td>\n",
       "      <td>1</td>\n",
       "      <td>[ENST00000384835, ENST00000578334, ENST0000057...</td>\n",
       "      <td>[BZRAP1-AS1, MIR142]</td>\n",
       "    </tr>\n",
       "  </tbody>\n",
       "</table>\n",
       "</div>"
      ],
      "text/plain": [
       "    chr       pos ref alt  driver                 id  ref_len  alt_len  \\\n",
       "382  17  56408612   A   T       1    17_56408612_A_T        1        1   \n",
       "383  17  56408616   A   C       1    17_56408616_A_C        1        1   \n",
       "384  17  56408620   A   G       1    17_56408620_A_G        1        1   \n",
       "385  17  56408620  AA  TG       1  17_56408620_AA_TG        2        2   \n",
       "386  17  56408621   A   G       1    17_56408621_A_G        1        1   \n",
       "\n",
       "    fetched_nucleotides  is_nucleotides_same  ref_start   ref_end  \\\n",
       "382                   A                 True   56408612  56408613   \n",
       "383                   A                 True   56408616  56408617   \n",
       "384                   A                 True   56408620  56408621   \n",
       "385                  AA                 True   56408620  56408622   \n",
       "386                   A                 True   56408621  56408622   \n",
       "\n",
       "                  upstream_sequence             downstream_sequence  \\\n",
       "382  TCTCCGAAGCCCACAGTACACTCATCCATA  AGTAGGAAACACTACACCCTCCAGTGCTGT   \n",
       "383  CGAAGCCCACAGTACACTCATCCATAAAGT  GGAAACACTACACCCTCCAGTGCTGTTAGT   \n",
       "384  GCCCACAGTACACTCATCCATAAAGTAGGA  ACACTACACCCTCCAGTGCTGTTAGTAGTG   \n",
       "385  GCCCACAGTACACTCATCCATAAAGTAGGA  CACTACACCCTCCAGTGCTGTTAGTAGTGC   \n",
       "386  CCCACAGTACACTCATCCATAAAGTAGGAA  CACTACACCCTCCAGTGCTGTTAGTAGTGC   \n",
       "\n",
       "                                              sequence  \\\n",
       "382  TCTCCGAAGCCCACAGTACACTCATCCATAAAGTAGGAAACACTAC...   \n",
       "383  CGAAGCCCACAGTACACTCATCCATAAAGTAGGAAACACTACACCC...   \n",
       "384  GCCCACAGTACACTCATCCATAAAGTAGGAAACACTACACCCTCCA...   \n",
       "385  GCCCACAGTACACTCATCCATAAAGTAGGAAACACTACACCCTCCA...   \n",
       "386  CCCACAGTACACTCATCCATAAAGTAGGAAACACTACACCCTCCAG...   \n",
       "\n",
       "                                      mutated_sequence  is_mirna  \\\n",
       "382  TCTCCGAAGCCCACAGTACACTCATCCATATAGTAGGAAACACTAC...         1   \n",
       "383  CGAAGCCCACAGTACACTCATCCATAAAGTCGGAAACACTACACCC...         1   \n",
       "384  GCCCACAGTACACTCATCCATAAAGTAGGAGACACTACACCCTCCA...         1   \n",
       "385  GCCCACAGTACACTCATCCATAAAGTAGGATGCACTACACCCTCCA...         1   \n",
       "386  CCCACAGTACACTCATCCATAAAGTAGGAAGCACTACACCCTCCAG...         1   \n",
       "\n",
       "                                         transcript_id             gene_name  \n",
       "382  [ENST00000384835, ENST00000578334, ENST0000057...  [BZRAP1-AS1, MIR142]  \n",
       "383  [ENST00000384835, ENST00000578334, ENST0000057...  [BZRAP1-AS1, MIR142]  \n",
       "384  [ENST00000384835, ENST00000578334, ENST0000057...  [BZRAP1-AS1, MIR142]  \n",
       "385  [ENST00000384835, ENST00000578334, ENST0000057...  [BZRAP1-AS1, MIR142]  \n",
       "386  [ENST00000384835, ENST00000578334, ENST0000057...  [BZRAP1-AS1, MIR142]  "
      ]
     },
     "execution_count": 14,
     "metadata": {},
     "output_type": "execute_result"
    }
   ],
   "source": [
    "df[df.is_mirna == 1].head()"
   ]
  },
  {
   "cell_type": "code",
   "execution_count": 15,
   "metadata": {},
   "outputs": [
    {
     "name": "stderr",
     "output_type": "stream",
     "text": [
      "INFO:pyensembl.sequence_data:Loaded sequence dictionary from /run/media/nazif/2F946E411BA61D49/data/pyensembl/GRCh37/ensembl75/Homo_sapiens.GRCh37.75.cdna.all.fa.gz.pickle\n",
      "INFO:pyensembl.sequence_data:Loaded sequence dictionary from /run/media/nazif/2F946E411BA61D49/data/pyensembl/GRCh37/ensembl75/Homo_sapiens.GRCh37.75.ncrna.fa.gz.pickle\n",
      "INFO:pyensembl.sequence_data:Loaded sequence dictionary from /run/media/nazif/2F946E411BA61D49/data/pyensembl/GRCh37/ensembl75/Homo_sapiens.GRCh37.75.pep.all.fa.gz.pickle\n"
     ]
    }
   ],
   "source": [
    "def get_biotype(coord):\n",
    "    if transcripts := grch37.transcripts_at_locus(*coord):\n",
    "        return tuple(coord), transcripts[0].biotype\n",
    "    else:\n",
    "        return tuple(coord), \"not_found\"\n",
    "    \n",
    "grch37 = import_pyensembl(grch=37)\n",
    "coords = df[['chr', 'pos']].values.tolist()\n",
    "\n",
    "with concurrent.futures.ProcessPoolExecutor() as executor:\n",
    "    results = executor.map(get_biotype, coords)\n",
    "\n",
    "biotypes = dict(results)\n",
    "df[\"biotype\"] = [biotypes.get((row[\"chr\"], row[\"pos\"]), \"\") for _, row in df.iterrows()]\n"
   ]
  },
  {
   "cell_type": "code",
   "execution_count": 16,
   "metadata": {},
   "outputs": [
    {
     "data": {
      "text/plain": [
       "biotype\n",
       "protein_coding             740\n",
       "not_found                  319\n",
       "misc_RNA                    20\n",
       "miRNA                       17\n",
       "processed_transcript        16\n",
       "nonsense_mediated_decay     15\n",
       "lincRNA                      8\n",
       "antisense                    8\n",
       "snoRNA                       4\n",
       "retained_intron              4\n",
       "IG_C_gene                    1\n",
       "unprocessed_pseudogene       1\n",
       "sense_overlapping            1\n",
       "Name: count, dtype: int64"
      ]
     },
     "execution_count": 16,
     "metadata": {},
     "output_type": "execute_result"
    }
   ],
   "source": [
    "df.biotype.value_counts()"
   ]
  },
  {
   "cell_type": "code",
   "execution_count": 17,
   "metadata": {},
   "outputs": [
    {
     "data": {
      "text/plain": [
       "is_mirna\n",
       "1    11\n",
       "0     6\n",
       "Name: count, dtype: int64"
      ]
     },
     "execution_count": 17,
     "metadata": {},
     "output_type": "execute_result"
    }
   ],
   "source": [
    "df[df.biotype == \"miRNA\"].is_mirna.value_counts()"
   ]
  },
  {
   "cell_type": "code",
   "execution_count": 18,
   "metadata": {},
   "outputs": [
    {
     "data": {
      "text/html": [
       "<div>\n",
       "<style scoped>\n",
       "    .dataframe tbody tr th:only-of-type {\n",
       "        vertical-align: middle;\n",
       "    }\n",
       "\n",
       "    .dataframe tbody tr th {\n",
       "        vertical-align: top;\n",
       "    }\n",
       "\n",
       "    .dataframe thead th {\n",
       "        text-align: right;\n",
       "    }\n",
       "</style>\n",
       "<table border=\"1\" class=\"dataframe\">\n",
       "  <thead>\n",
       "    <tr style=\"text-align: right;\">\n",
       "      <th></th>\n",
       "      <th>chr</th>\n",
       "      <th>pos</th>\n",
       "      <th>ref</th>\n",
       "      <th>alt</th>\n",
       "      <th>driver</th>\n",
       "      <th>id</th>\n",
       "      <th>ref_len</th>\n",
       "      <th>alt_len</th>\n",
       "      <th>fetched_nucleotides</th>\n",
       "      <th>is_nucleotides_same</th>\n",
       "      <th>ref_start</th>\n",
       "      <th>ref_end</th>\n",
       "      <th>upstream_sequence</th>\n",
       "      <th>downstream_sequence</th>\n",
       "      <th>sequence</th>\n",
       "      <th>mutated_sequence</th>\n",
       "      <th>is_mirna</th>\n",
       "      <th>transcript_id</th>\n",
       "      <th>gene_name</th>\n",
       "      <th>biotype</th>\n",
       "    </tr>\n",
       "  </thead>\n",
       "  <tbody>\n",
       "    <tr>\n",
       "      <th>0</th>\n",
       "      <td>16</td>\n",
       "      <td>339439</td>\n",
       "      <td>C</td>\n",
       "      <td>T</td>\n",
       "      <td>1</td>\n",
       "      <td>16_339439_C_T</td>\n",
       "      <td>1</td>\n",
       "      <td>1</td>\n",
       "      <td>C</td>\n",
       "      <td>True</td>\n",
       "      <td>339439</td>\n",
       "      <td>339440</td>\n",
       "      <td>GGGGAGGGGGCACCCCAGCCCTCACACTCA</td>\n",
       "      <td>CTGTAGCTGCCCTTTTTGGTCAGCAGCTCC</td>\n",
       "      <td>GGGGAGGGGGCACCCCAGCCCTCACACTCACCTGTAGCTGCCCTTT...</td>\n",
       "      <td>GGGGAGGGGGCACCCCAGCCCTCACACTCATCTGTAGCTGCCCTTT...</td>\n",
       "      <td>0</td>\n",
       "      <td>[ENST00000262320, ENST00000354866, ENST0000045...</td>\n",
       "      <td>[AXIN1]</td>\n",
       "      <td>protein_coding</td>\n",
       "    </tr>\n",
       "    <tr>\n",
       "      <th>1</th>\n",
       "      <td>16</td>\n",
       "      <td>339608</td>\n",
       "      <td>C</td>\n",
       "      <td>T</td>\n",
       "      <td>1</td>\n",
       "      <td>16_339608_C_T</td>\n",
       "      <td>1</td>\n",
       "      <td>1</td>\n",
       "      <td>C</td>\n",
       "      <td>True</td>\n",
       "      <td>339608</td>\n",
       "      <td>339609</td>\n",
       "      <td>CCGCCGCCCACCTTCCTCTGCGATCTTGTC</td>\n",
       "      <td>TGGGGAAAGAGATGCAGCGGTGGTACCTGG</td>\n",
       "      <td>CCGCCGCCCACCTTCCTCTGCGATCTTGTCCTGGGGAAAGAGATGC...</td>\n",
       "      <td>CCGCCGCCCACCTTCCTCTGCGATCTTGTCTTGGGGAAAGAGATGC...</td>\n",
       "      <td>0</td>\n",
       "      <td>[ENST00000262320, ENST00000354866, ENST0000045...</td>\n",
       "      <td>[AXIN1]</td>\n",
       "      <td>protein_coding</td>\n",
       "    </tr>\n",
       "    <tr>\n",
       "      <th>2</th>\n",
       "      <td>16</td>\n",
       "      <td>347721</td>\n",
       "      <td>C</td>\n",
       "      <td>T</td>\n",
       "      <td>1</td>\n",
       "      <td>16_347721_C_T</td>\n",
       "      <td>1</td>\n",
       "      <td>1</td>\n",
       "      <td>C</td>\n",
       "      <td>True</td>\n",
       "      <td>347721</td>\n",
       "      <td>347722</td>\n",
       "      <td>GCCCCCTCCTCACTGACAGGCGCACGCTCA</td>\n",
       "      <td>CTGTGGGCGAGGCCATCACTGGCGTTGGGG</td>\n",
       "      <td>GCCCCCTCCTCACTGACAGGCGCACGCTCACCTGTGGGCGAGGCCA...</td>\n",
       "      <td>GCCCCCTCCTCACTGACAGGCGCACGCTCATCTGTGGGCGAGGCCA...</td>\n",
       "      <td>0</td>\n",
       "      <td>[ENST00000262320, ENST00000354866, ENST0000046...</td>\n",
       "      <td>[AXIN1]</td>\n",
       "      <td>protein_coding</td>\n",
       "    </tr>\n",
       "    <tr>\n",
       "      <th>3</th>\n",
       "      <td>16</td>\n",
       "      <td>360070</td>\n",
       "      <td>C</td>\n",
       "      <td>A</td>\n",
       "      <td>1</td>\n",
       "      <td>16_360070_C_A</td>\n",
       "      <td>1</td>\n",
       "      <td>1</td>\n",
       "      <td>C</td>\n",
       "      <td>True</td>\n",
       "      <td>360070</td>\n",
       "      <td>360071</td>\n",
       "      <td>TTACGGATCCTGTATGGGGGGATCCCATCC</td>\n",
       "      <td>TGTCCAGGAGAAAGAGGCAGCCGTTAACTC</td>\n",
       "      <td>TTACGGATCCTGTATGGGGGGATCCCATCCCTGTCCAGGAGAAAGA...</td>\n",
       "      <td>TTACGGATCCTGTATGGGGGGATCCCATCCATGTCCAGGAGAAAGA...</td>\n",
       "      <td>0</td>\n",
       "      <td>[ENST00000262320, ENST00000354866, ENST0000046...</td>\n",
       "      <td>[AXIN1]</td>\n",
       "      <td>protein_coding</td>\n",
       "    </tr>\n",
       "    <tr>\n",
       "      <th>4</th>\n",
       "      <td>16</td>\n",
       "      <td>396146</td>\n",
       "      <td>A</td>\n",
       "      <td>T</td>\n",
       "      <td>1</td>\n",
       "      <td>16_396146_A_T</td>\n",
       "      <td>1</td>\n",
       "      <td>1</td>\n",
       "      <td>A</td>\n",
       "      <td>True</td>\n",
       "      <td>396146</td>\n",
       "      <td>396147</td>\n",
       "      <td>TACAGAAAGTGGACGCCTGGCGTCGGACTC</td>\n",
       "      <td>CCTGAACTCTCTGCCTTCGCTGTACCGTCT</td>\n",
       "      <td>TACAGAAAGTGGACGCCTGGCGTCGGACTCACCTGAACTCTCTGCC...</td>\n",
       "      <td>TACAGAAAGTGGACGCCTGGCGTCGGACTCTCCTGAACTCTCTGCC...</td>\n",
       "      <td>0</td>\n",
       "      <td>[ENST00000262320, ENST00000354866, ENST0000046...</td>\n",
       "      <td>[AXIN1]</td>\n",
       "      <td>protein_coding</td>\n",
       "    </tr>\n",
       "  </tbody>\n",
       "</table>\n",
       "</div>"
      ],
      "text/plain": [
       "  chr     pos ref alt  driver             id  ref_len  alt_len  \\\n",
       "0  16  339439   C   T       1  16_339439_C_T        1        1   \n",
       "1  16  339608   C   T       1  16_339608_C_T        1        1   \n",
       "2  16  347721   C   T       1  16_347721_C_T        1        1   \n",
       "3  16  360070   C   A       1  16_360070_C_A        1        1   \n",
       "4  16  396146   A   T       1  16_396146_A_T        1        1   \n",
       "\n",
       "  fetched_nucleotides  is_nucleotides_same  ref_start  ref_end  \\\n",
       "0                   C                 True     339439   339440   \n",
       "1                   C                 True     339608   339609   \n",
       "2                   C                 True     347721   347722   \n",
       "3                   C                 True     360070   360071   \n",
       "4                   A                 True     396146   396147   \n",
       "\n",
       "                upstream_sequence             downstream_sequence  \\\n",
       "0  GGGGAGGGGGCACCCCAGCCCTCACACTCA  CTGTAGCTGCCCTTTTTGGTCAGCAGCTCC   \n",
       "1  CCGCCGCCCACCTTCCTCTGCGATCTTGTC  TGGGGAAAGAGATGCAGCGGTGGTACCTGG   \n",
       "2  GCCCCCTCCTCACTGACAGGCGCACGCTCA  CTGTGGGCGAGGCCATCACTGGCGTTGGGG   \n",
       "3  TTACGGATCCTGTATGGGGGGATCCCATCC  TGTCCAGGAGAAAGAGGCAGCCGTTAACTC   \n",
       "4  TACAGAAAGTGGACGCCTGGCGTCGGACTC  CCTGAACTCTCTGCCTTCGCTGTACCGTCT   \n",
       "\n",
       "                                            sequence  \\\n",
       "0  GGGGAGGGGGCACCCCAGCCCTCACACTCACCTGTAGCTGCCCTTT...   \n",
       "1  CCGCCGCCCACCTTCCTCTGCGATCTTGTCCTGGGGAAAGAGATGC...   \n",
       "2  GCCCCCTCCTCACTGACAGGCGCACGCTCACCTGTGGGCGAGGCCA...   \n",
       "3  TTACGGATCCTGTATGGGGGGATCCCATCCCTGTCCAGGAGAAAGA...   \n",
       "4  TACAGAAAGTGGACGCCTGGCGTCGGACTCACCTGAACTCTCTGCC...   \n",
       "\n",
       "                                    mutated_sequence  is_mirna  \\\n",
       "0  GGGGAGGGGGCACCCCAGCCCTCACACTCATCTGTAGCTGCCCTTT...         0   \n",
       "1  CCGCCGCCCACCTTCCTCTGCGATCTTGTCTTGGGGAAAGAGATGC...         0   \n",
       "2  GCCCCCTCCTCACTGACAGGCGCACGCTCATCTGTGGGCGAGGCCA...         0   \n",
       "3  TTACGGATCCTGTATGGGGGGATCCCATCCATGTCCAGGAGAAAGA...         0   \n",
       "4  TACAGAAAGTGGACGCCTGGCGTCGGACTCTCCTGAACTCTCTGCC...         0   \n",
       "\n",
       "                                       transcript_id gene_name         biotype  \n",
       "0  [ENST00000262320, ENST00000354866, ENST0000045...   [AXIN1]  protein_coding  \n",
       "1  [ENST00000262320, ENST00000354866, ENST0000045...   [AXIN1]  protein_coding  \n",
       "2  [ENST00000262320, ENST00000354866, ENST0000046...   [AXIN1]  protein_coding  \n",
       "3  [ENST00000262320, ENST00000354866, ENST0000046...   [AXIN1]  protein_coding  \n",
       "4  [ENST00000262320, ENST00000354866, ENST0000046...   [AXIN1]  protein_coding  "
      ]
     },
     "execution_count": 18,
     "metadata": {},
     "output_type": "execute_result"
    }
   ],
   "source": [
    "df.head()"
   ]
  },
  {
   "cell_type": "code",
   "execution_count": 19,
   "metadata": {},
   "outputs": [
    {
     "data": {
      "text/plain": [
       "array([list(['ENST00000384835', 'ENST00000578334', 'ENST00000579003', 'ENST00000579527', 'ENST00000580515', 'ENST00000580633']),\n",
       "       list(['ENST00000384835', 'ENST00000578334', 'ENST00000579003', 'ENST00000579527', 'ENST00000580515', 'ENST00000580633']),\n",
       "       list(['ENST00000384835', 'ENST00000578334', 'ENST00000579003', 'ENST00000579527', 'ENST00000580515', 'ENST00000580633']),\n",
       "       list(['ENST00000384835', 'ENST00000578334', 'ENST00000579003', 'ENST00000579527', 'ENST00000580515', 'ENST00000580633']),\n",
       "       list(['ENST00000384835', 'ENST00000578334', 'ENST00000579003', 'ENST00000579527', 'ENST00000580515', 'ENST00000580633']),\n",
       "       list(['ENST00000384835', 'ENST00000578334', 'ENST00000579003', 'ENST00000579527', 'ENST00000580515', 'ENST00000580633'])],\n",
       "      dtype=object)"
      ]
     },
     "execution_count": 19,
     "metadata": {},
     "output_type": "execute_result"
    }
   ],
   "source": [
    "df[(df.biotype == \"miRNA\") & (df.is_mirna == 0)].transcript_id.values"
   ]
  },
  {
   "cell_type": "code",
   "execution_count": 20,
   "metadata": {},
   "outputs": [],
   "source": [
    "case_1 = df[df.is_mirna == 0]\n",
    "case_2 = df[df.is_mirna == 1]\n",
    "\n",
    "case_1.to_csv(\"data/case_1_processed.csv\", index=False)\n",
    "case_2.to_csv(\"data/case_2_processed.csv\", index=False)"
   ]
  }
 ],
 "metadata": {
  "kernelspec": {
   "display_name": "sana-3MV7DID1-py3.11",
   "language": "python",
   "name": "python3"
  },
  "language_info": {
   "codemirror_mode": {
    "name": "ipython",
    "version": 3
   },
   "file_extension": ".py",
   "mimetype": "text/x-python",
   "name": "python",
   "nbconvert_exporter": "python",
   "pygments_lexer": "ipython3",
   "version": "3.11.5"
  },
  "orig_nbformat": 4
 },
 "nbformat": 4,
 "nbformat_minor": 2
}
